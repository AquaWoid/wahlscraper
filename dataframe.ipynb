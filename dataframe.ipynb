{
 "cells": [
  {
   "cell_type": "code",
   "execution_count": 1,
   "metadata": {},
   "outputs": [
    {
     "data": {
      "text/plain": [
       "<Axes: xlabel='year'>"
      ]
     },
     "execution_count": 1,
     "metadata": {},
     "output_type": "execute_result"
    },
    {
     "data": {
      "image/png": "[encoded data removed]",
      "text/plain": [
       "<Figure size 640x480 with 1 Axes>"
      ]
     },
     "metadata": {},
     "output_type": "display_data"
    }
   ],
   "source": [
    "import pandas \n",
    "import plotly.express as px\n",
    "import matplotlib.pyplot as plt\n",
    "import seaborn as sns\n",
    "\n",
    "df= pandas.read_csv(\"csv/results.csv\")\n",
    "df_inv = pandas.read_csv(\"csv/results_inv_form.csv\")\n",
    "\n",
    "df_merged = pandas.concat([df, df_inv], axis=0, ignore_index=True)\n",
    "\n",
    "\n",
    "df_merged.to_csv(\"csv/results_merged.csv\", header=True)\n",
    "\n",
    "#df[\"Name\"].unique()\n",
    "\n",
    "pl = df_merged.groupby([\"year\",])[\"Votes\"].max()\n",
    "pl.plot(kind=\"bar\")\n",
    "\n",
    "\n",
    "\n"
   ]
  },
  {
   "cell_type": "code",
   "execution_count": 27,
   "metadata": {},
   "outputs": [
    {
     "data": {
      "text/plain": [
       "array(['Sozialistische Partei Österreich', 'Österreichische Volksparte',\n",
       "       'Österreichische Volkspartei', 'Sozialistische Partei Österreichs',\n",
       "       'Kommunistische Partei Österreichs u. Linkssozialisten (Linksblock)',\n",
       "       'Wahlpartei der Unabhängigen', 'Demokratische Union',\n",
       "       'Vierte Partei (Ergokraten)',\n",
       "       'Demokraticna fronta delovnegna ljudstva',\n",
       "       'Demokratische Partei Österreichs',\n",
       "       'Wirtschaftspartei der Haus- und Grundbesitzer',\n",
       "       'Österreichische Patriotische Union',\n",
       "       'Bund der österreichischen Monarchisten',\n",
       "       'Christlich-demokratische Partei (Krscanska demokratska stranka)',\n",
       "       'Christlichsoziale Partei und Parteifreie Persönlichkeiten',\n",
       "       'Österreichische National-Republikaner und Parteilose',\n",
       "       'Überparteiliche Einigung der Mitte, Wahlgemeinschaft parteiloser Persönlichkeiten',\n",
       "       'Wahlgemeinschaft Österreichische Volksopposition\\xa0',\n",
       "       'Wahlpartei der Unabhängigen\\xa0', 'Wahlpartei Freie Demokraten',\n",
       "       'Ergokratische Partei', 'Freie Arbeiterbewegung Österreichs',\n",
       "       'Freiheitliche Partei Österreichs',\n",
       "       'Kommunisten und Linkssozialisten',\n",
       "       'Österreichische Mittelstandspartei',\n",
       "       'Parlamentarische Vertretung der Wahlverhinderten, Nichtwähler und ungültigen Stimmen in Österreich',\n",
       "       'Partei der Vernunft', 'Bund demokratischer Sozialisten',\n",
       "       'Europäische Föderalistische Partei Österreichs',\n",
       "       'Demokratische Fortschrittliche Partei, DFP-Liste Franz Olah',\n",
       "       'Liberale Partei Österreichs', 'Marxisten-Leninisten Österreichs',\n",
       "       'Kommunistische Partei Österreichs',\n",
       "       'Nationaldemokratische Partei',\n",
       "       'Adolf Glantschnig - Für Menschlichkeit, Recht und Freiheit in Österreich',\n",
       "       'Offensiv links', 'Liste Steinacher Franz',\n",
       "       'Gruppe Revolutionäre Marxisten',\n",
       "       'Christlich-Soziale-Arbeitsgemeinschaft',\n",
       "       'Vereinte Grüne Österreichs - Liste Tollmann',\n",
       "       'Alternative Liste Österreich', 'Österreich-Partei',\n",
       "       'Ausländer-Halt-Bewegung',\n",
       "       'Die Grüne Alternative - Liste Freda Meissner-Blau',\n",
       "       'Die Grünalternativen - Demokratische Liste',\n",
       "       'Kärntner Grüne - VGÖ - VÖGA - Unabhängige Gemeinderäte',\n",
       "       'Aktionsliste \"Mir reicht`s!\"',\n",
       "       'Die Grüne Alternative - Grüne im Parlament',\n",
       "       'Vereinte Grüne Österreichs/Das Umwelt-Bürgerforum',\n",
       "       'Verband der Sozialversicherten',\n",
       "       'Christliche-Wähler-Gemeinschaft', 'Christdemokratische Partei',\n",
       "       'Wahlplattform der Grauen Österreichs', 'Fritz Georg',\n",
       "       'Die Grünen - Die Grüne Alternative',\n",
       "       'Liberales Forum - Heide Schmidt',\n",
       "       'Vereinte Grüne Österreichs - Liste Adi Pinter',\n",
       "       'Bürgerliche Grüne Österreichs Freie Demokraten - Die Liberalen Verband der Sozialversicherten Bürgerlisten und Unabhängige',\n",
       "       'Nein - Bürgerinitiative gegen den Verkauf Österreichs',\n",
       "       'Christliche - Wähler - Gemeinschaft',\n",
       "       'Österreichische Naturgesetz - Partei', 'Die Beste Partei',\n",
       "       'Bürgerinitiative Nein zur EU - Austritt jetzt',\n",
       "       'Die Beste Partei - Reinhard Eberhart',\n",
       "       'Sozialdemokratische Partei Österreichs',\n",
       "       'Die Unabhängigen - Liste Lugner',\n",
       "       'Nein zu NATO und EU Neutrales Österreich Bürgerinitiative',\n",
       "       'Christliche Wählergemeinschaft',\n",
       "       'Die Liberalen (Liberales Forum)', 'Die Demokraten',\n",
       "       'Sozialistische Links Partei',\n",
       "       'Die Freiheitlichen - Liste Westenthaler - BZÖ',\n",
       "       'Liste Dr. Martin - Für Demokratie, Kontrolle, Gerechtigkeit',\n",
       "       'EU-Austritt - Neutrales Freies Österreich', 'IVE INITIATIVE2000',\n",
       "       'Liste Stark', 'Sicher-Absolut-Unabhängig, Franz Radinger',\n",
       "       'Sozialistische LinksPartei, Liste gegen Kapitalismus und Rassismus',\n",
       "       'BZÖ - Liste Jörg Haider',\n",
       "       'Bürgerforum Österreich Liste Fritz Dinkhauser', 'Die Christen',\n",
       "       'Liberales Forum',\n",
       "       'Unabhängige Bürgerinitiative Rettet Österreich', 'Die Linke',\n",
       "       'Dipl.Ing. Karlheinz H. Klement', 'Linke',\n",
       "       'Tierrechtspartei earth-human-animals-nature',\n",
       "       'BZÖ - Liste Josef Bucher', 'Team Frank Stronach',\n",
       "       'NEOS Das Neue Österreich und Liberales Forum',\n",
       "       'Piratenpartei Österreichs', 'Christliche Partei Österreichs',\n",
       "       'Der Wandel', 'Männerpartei', 'EU-Austrittspartei',\n",
       "       'Sozialistische LinksPartei',\n",
       "       'Sozialdemokratische Partei Österreichs\\xa0',\n",
       "       'Liste Sebastian Kurz - die neue Volkspartei\\xa0',\n",
       "       'Freiheitliche Partei Österreichs\\xa0',\n",
       "       'Die Grünen - Die Grüne Alternative\\xa0',\n",
       "       'NEOS - Das Neue Österreich gemeinsam mit Irmgard Griss, Bürgerinnen und Bürger für Freiheit und Verantwortung',\n",
       "       'Liste Peter Pilz\\xa0',\n",
       "       'Liste Roland Düringer - Meine Stimme GILT\\xa0',\n",
       "       'Freie Liste Österreich & FPS Liste Dr. Karl Schnell',\n",
       "       'Kommunistische Partei Österreichs und Plattform Plus - offene Liste',\n",
       "       'Die Weissen - Das Recht geht vom Volk aus. Wir alle entscheiden in Österreich. Die Volksbewegung\\xa0',\n",
       "       'Sozialistische LinksPartei\\xa0',\n",
       "       'Für Österreich, Zuwanderungsstopp, Grenzschutz, Neutralität, EU-Austritt\\xa0',\n",
       "       'Männerpartei - für ein faires Miteinander\\xa0',\n",
       "       'Christliche Partei Österreichs\\xa0',\n",
       "       'NBZ - Neue Bewegung für die Zukunft\\xa0',\n",
       "       'Obdachlose in der Politik\\xa0',\n",
       "       'Liste Sebastian Kurz – die neue Volkspartei',\n",
       "       'NEOS – Das Neue Österreich', 'JETZT – Liste Pilz',\n",
       "       'Alternative Listen, KPÖ Plus, Linke und Unabhängige',\n",
       "       'Die Grünen – Die Grüne Alternative',\n",
       "       'Wandel – Aufbruch in ein gemeinwohlorientiertes Morgen mit guter Arbeit, leistbarem Wohnen und radikaler Klimapolitik. Es gibt viel zu gewinnen.',\n",
       "       'Allianz der Patrioten', 'Sozialistische LinksPartei – SLP',\n",
       "       'Jede Stimme GILT: Bürgerparlamente & Expertenregierung',\n",
       "       'BPÖ – Bierpartei Österreich'], dtype=object)"
      ]
     },
     "execution_count": 27,
     "metadata": {},
     "output_type": "execute_result"
    }
   ],
   "source": [
    "df_merged[\"Name\"].unique()"
   ]
  }
 ],
 "metadata": {
  "kernelspec": {
   "display_name": "Python 3",
   "language": "python",
   "name": "python3"
  },
  "language_info": {
   "codemirror_mode": {
    "name": "ipython",
    "version": 3
   },
   "file_extension": ".py",
   "mimetype": "text/x-python",
   "name": "python",
   "nbconvert_exporter": "python",
   "pygments_lexer": "ipython3",
   "version": "3.8.10"
  }
 },
 "nbformat": 4,
 "nbformat_minor": 2
}
